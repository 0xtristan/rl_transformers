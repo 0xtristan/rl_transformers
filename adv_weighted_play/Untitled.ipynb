{
 "cells": [
  {
   "cell_type": "code",
   "execution_count": 1,
   "metadata": {},
   "outputs": [
    {
     "name": "stdout",
     "output_type": "stream",
     "text": [
      "current_dir=/home/sholto/Desktop/AI/rl_transformers/adv_weighted_play\n"
     ]
    }
   ],
   "source": [
    "import numpy as np\n",
    "from torch.optim import Adam\n",
    "from pytorch_shared import *\n",
    "import torch\n",
    "import torch.nn as nn\n",
    "import gym\n",
    "import time\n",
    "import pybullet\n",
    "import reach2D\n",
    "import os\n",
    "\n",
    "import pointMass\n",
    "from SAC import *\n",
    "from HER import *\n",
    "from BC import * \n",
    "from common import *\n",
    "from tensorboardX import SummaryWriter\n",
    "from gym import wrappers\n",
    "from datetime import datetime\n",
    "from tqdm import tqdm\n",
    "import matplotlib.pyplot as plt\n",
    "\n",
    "PLAY = True"
   ]
  },
  {
   "cell_type": "code",
   "execution_count": 2,
   "metadata": {},
   "outputs": [
    {
     "name": "stdout",
     "output_type": "stream",
     "text": [
      "seeding\n",
      "Environment set to sparse reward\n",
      "seeding\n",
      "Environment set to sparse reward\n",
      "Rendering Test Rollouts\n"
     ]
    },
    {
     "name": "stderr",
     "output_type": "stream",
     "text": [
      "/home/sholto/anaconda3/lib/python3.7/site-packages/gym/logger.py:30: UserWarning: \u001b[33mWARN: Box bound precision lowered by casting to float32\u001b[0m\n",
      "  warnings.warn(colorize('%s: %s'%('WARN', msg % args), 'yellow'))\n"
     ]
    }
   ],
   "source": [
    "env_name = 'pointMassObject-v0'\n",
    "filepath = 'collected_data/17100experiment_2_HER_pointMassObject-v0.npz'\n",
    "data = np.load(filepath)\n",
    "\n",
    "ac_kwargs = dict(hidden_sizes=[128]*2)\n",
    "seed = 0\n",
    "replay_size = int(1e6)\n",
    "lr = 3e-4\n",
    "load = False\n",
    "exp_name = 'AWAC'\n",
    "render = True\n",
    "strategy = 'final'\n",
    "batch_size = 200\n",
    "\n",
    "\n",
    "env, test_env, act_limit, obs_dim, act_dim, summary_writer = setup(env_name, ac_kwargs, seed, replay_size, lr, load, exp_name, render, strategy)\n"
   ]
  },
  {
   "cell_type": "code",
   "execution_count": 3,
   "metadata": {},
   "outputs": [],
   "source": [
    "\n",
    "train_partition = 0.8\n",
    "N_TRAJS = len(data['obs'])\n",
    "TRAJ_LEN = len(data['obs'][0])\n",
    "train_data = {key:value[:int(N_TRAJS*train_partition)] for key, value in data.items()}\n",
    "valid_data = {key:value[int(N_TRAJS*train_partition):] for key, value in data.items()}"
   ]
  },
  {
   "cell_type": "code",
   "execution_count": 4,
   "metadata": {},
   "outputs": [],
   "source": [
    "# data_r_buf_format\n",
    "\n",
    "\n",
    "replay_buffer = HERReplayBuffer(env, obs_dim, act_dim, replay_size, n_sampled_goal=4,\n",
    "                                goal_selection_strategy=strategy)\n",
    "\n",
    "\n",
    "episodes = data_to_r_buf_episodes(train_data, env)\n",
    "_ = [replay_buffer.store_hindsight_episode(e, store_original_transition=True) for e in episodes]\n",
    "           \n",
    "batch_size = 200\n",
    "\n"
   ]
  },
  {
   "cell_type": "code",
   "execution_count": 5,
   "metadata": {},
   "outputs": [
    {
     "name": "stderr",
     "output_type": "stream",
     "text": [
      "\r",
      "  0%|          | 0/2000 [00:00<?, ?it/s]"
     ]
    },
    {
     "name": "stdout",
     "output_type": "stream",
     "text": [
      "False -------------------\n",
      "\n",
      "Number of parameters: \t pi: 18436, \t q1: 18305, \t q2: 18305\n",
      "\n"
     ]
    },
    {
     "name": "stderr",
     "output_type": "stream",
     "text": [
      "100%|██████████| 2000/2000 [00:06<00:00, 301.35it/s]\n"
     ]
    },
    {
     "data": {
      "text/plain": [
       "[<matplotlib.lines.Line2D at 0x7f5e6411b0b8>]"
      ]
     },
     "execution_count": 5,
     "metadata": {},
     "output_type": "execute_result"
    },
    {
     "data": {
      "image/png": "[encoded data removed]",
      "text/plain": [
       "<Figure size 432x288 with 1 Axes>"
      ]
     },
     "metadata": {
      "needs_background": "light"
     },
     "output_type": "display_data"
    }
   ],
   "source": [
    "# BC Bit. \n",
    "\n",
    "\n",
    "model = SAC_model(act_limit, obs_dim, act_dim, ac_kwargs['hidden_sizes'], lr, load=load, exp_name=exp_name,\n",
    "                  replay_buffer=replay_buffer)\n",
    "\n",
    "train_obs, train_acts, valid_obs, valid_acts = load_data(filepath, goal_based=True)\n",
    "\n",
    "policy = model.ac.pi\n",
    "optimizer = model.pi_optimizer\n",
    "\n",
    "# Using the functions from BC.py\n",
    "losses = []\n",
    "steps = []\n",
    "\n",
    "for t in tqdm(range(0, 2000)):\n",
    "    train_step(train_obs, train_acts, optimizer, policy)\n",
    "    if t % 50 == 0:\n",
    "        l = test_step(valid_obs, valid_acts, policy)\n",
    "        losses.append(l)\n",
    "        steps.append(t)\n",
    "\n",
    "        \n",
    "plt.plot(steps, losses)"
   ]
  },
  {
   "cell_type": "code",
   "execution_count": 6,
   "metadata": {
    "scrolled": true
   },
   "outputs": [
    {
     "name": "stdout",
     "output_type": "stream",
     "text": [
      "Frame:  149  Return:  -150.0\n",
      "Frame:  299  Return:  -150.0\n",
      "Frame:  449  Return:  -150.0\n",
      "Frame:  599  Return:  -150.0\n",
      "Frame:  749  Return:  -150.0\n",
      "Frame:  899  Return:  -150.0\n",
      "Frame:  1049  Return:  -150.0\n",
      "Frame:  1199  Return:  -150.0\n",
      "Frame:  1349  Return:  -101.0\n",
      "Frame:  1499  Return:  -150.0\n",
      "Frame:  1649  Return:  -150.0\n",
      "Frame:  1799  Return:  -150.0\n",
      "Frame:  1949  Return:  -150.0\n",
      "Frame:  2099  Return:  -150.0\n",
      "Frame:  2249  Return:  -150.0\n",
      "Frame:  2399  Return:  -150.0\n",
      "Frame:  2549  Return:  -150.0\n",
      "Frame:  2699  Return:  -113.0\n",
      "Frame:  2849  Return:  -150.0\n",
      "Frame:  2999  Return:  -150.0\n",
      "Frame:  3149  Return:  -150.0\n",
      "Frame:  3299  Return:  -150.0\n",
      "Frame:  3449  Return:  -150.0\n",
      "Frame:  3599  Return:  -150.0\n",
      "Frame:  3749  Return:  -150.0\n",
      "Frame:  3899  Return:  -150.0\n",
      "Frame:  4049  Return:  -150.0\n",
      "Frame:  4199  Return:  -150.0\n",
      "Frame:  4349  Return:  -150.0\n",
      "Frame:  4499  Return:  -150.0\n",
      "Frame:  4649  Return:  -150.0\n",
      "Frame:  4799  Return:  -150.0\n",
      "Frame:  4949  Return:  -149.0\n",
      "Frame:  5099  Return:  -150.0\n",
      "Frame:  5249  Return:  -150.0\n",
      "Frame:  5399  Return:  -150.0\n",
      "Frame:  5549  Return:  -150.0\n",
      "Frame:  5699  Return:  -150.0\n",
      "Frame:  5849  Return:  -150.0\n",
      "Frame:  5999  Return:  -150.0\n",
      "Frame:  6149  Return:  -150.0\n",
      "Frame:  6299  Return:  -150.0\n",
      "Frame:  6449  Return:  -150.0\n",
      "Frame:  6599  Return:  -150.0\n",
      "Frame:  6749  Return:  -129.0\n",
      "Frame:  6899  Return:  -150.0\n",
      "Frame:  7049  Return:  -147.0\n",
      "Frame:  7199  Return:  -150.0\n",
      "Frame:  7349  Return:  -150.0\n",
      "Frame:  7499  Return:  -150.0\n"
     ]
    }
   ],
   "source": [
    "# Now we want to collect a whole bunch of episodes using this policy\n",
    "# so we have some negatives.\n",
    "max_ep_len = 150\n",
    "num_examples = 50\n",
    "rollout_kwargs = {'n_steps': max_ep_len*num_examples, 'env' : env, 'exp_name': 'pointMassAWAC','max_ep_len' : max_ep_len, 'actor' : model.actor.get_stochastic_action,\n",
    "                          'return_episode' : True, 'goal_based' : True,\n",
    "                          'model':model}\n",
    "\n",
    "BC_episodes = rollout_trajectories(**rollout_kwargs)\n"
   ]
  },
  {
   "cell_type": "code",
   "execution_count": 9,
   "metadata": {},
   "outputs": [
    {
     "data": {
      "text/plain": [
       "82320"
      ]
     },
     "execution_count": 9,
     "metadata": {},
     "output_type": "execute_result"
    }
   ],
   "source": [
    "replay_buffer.size"
   ]
  },
  {
   "cell_type": "code",
   "execution_count": 8,
   "metadata": {},
   "outputs": [],
   "source": [
    "#Store The raw trajectories from these episodes\n",
    "\n",
    "_ = [replay_buffer.store_hindsight_episode(e, store_original_transition=True, n_sampled_goal=1) for e in BC_episodes['episodes']]\n",
    "\n"
   ]
  },
  {
   "cell_type": "code",
   "execution_count": 13,
   "metadata": {},
   "outputs": [
    {
     "name": "stderr",
     "output_type": "stream",
     "text": [
      "  0%|          | 8/3000 [00:00<00:40, 74.15it/s]"
     ]
    },
    {
     "name": "stdout",
     "output_type": "stream",
     "text": [
      "False -------------------\n",
      "\n",
      "Number of parameters: \t pi: 18436, \t q1: 18305, \t q2: 18305\n",
      "\n"
     ]
    },
    {
     "name": "stderr",
     "output_type": "stream",
     "text": [
      "100%|██████████| 3000/3000 [00:37<00:00, 80.71it/s]\n"
     ]
    }
   ],
   "source": [
    "qs = []\n",
    "pis = []\n",
    "q_pis = []\n",
    "steps = []\n",
    "\n",
    "\n",
    "model = SAC_model(act_limit, obs_dim, act_dim, ac_kwargs['hidden_sizes'], lr, load=load, exp_name=exp_name,\n",
    "                  replay_buffer=replay_buffer)\n",
    "\n",
    "model.CQL = False\n",
    "\n",
    "for i in tqdm(range(0, 3000)):\n",
    "    batch = replay_buffer.sample_batch()\n",
    "    loss_q, loss_pi, q_pi = model.update(batch)\n",
    "    qs.append(loss_q)\n",
    "    pis.append(loss_pi)\n",
    "    q_pis.append(q_pi)\n",
    "    steps.append(i)"
   ]
  },
  {
   "cell_type": "code",
   "execution_count": 14,
   "metadata": {},
   "outputs": [
    {
     "data": {
      "text/plain": [
       "[<matplotlib.lines.Line2D at 0x7f5e510a2470>]"
      ]
     },
     "execution_count": 14,
     "metadata": {},
     "output_type": "execute_result"
    },
    {
     "data": {
      "image/png": "[encoded data removed]",
      "text/plain": [
       "<Figure size 432x288 with 1 Axes>"
      ]
     },
     "metadata": {
      "needs_background": "light"
     },
     "output_type": "display_data"
    }
   ],
   "source": [
    "plt.plot(steps, qs)\n"
   ]
  },
  {
   "cell_type": "code",
   "execution_count": 15,
   "metadata": {},
   "outputs": [
    {
     "data": {
      "text/plain": [
       "[<matplotlib.lines.Line2D at 0x7f5e50f9fd68>]"
      ]
     },
     "execution_count": 15,
     "metadata": {},
     "output_type": "execute_result"
    },
    {
     "data": {
      "image/png": "[encoded data removed]",
      "text/plain": [
       "<Figure size 432x288 with 1 Axes>"
      ]
     },
     "metadata": {
      "needs_background": "light"
     },
     "output_type": "display_data"
    }
   ],
   "source": [
    "plt.plot(steps, pis)"
   ]
  },
  {
   "cell_type": "code",
   "execution_count": null,
   "metadata": {},
   "outputs": [],
   "source": [
    "plt.plot(steps, q_pis)"
   ]
  },
  {
   "cell_type": "code",
   "execution_count": 31,
   "metadata": {},
   "outputs": [
    {
     "data": {
      "text/plain": [
       "-300.0"
      ]
     },
     "execution_count": 31,
     "metadata": {},
     "output_type": "execute_result"
    }
   ],
   "source": [
    "def trajectory(env, actor, n_steps = 300):\n",
    "    obs = env.reset()\n",
    "    reward = 0\n",
    "    for t in range(0, n_steps):\n",
    "        flattened_obs  = np.expand_dims(np.concatenate((obs['observation'], obs['desired_goal'])), axis = 0)\n",
    "        a = actor(flattened_obs).squeeze()\n",
    "        obs, r, d, _  =  env.step(a)\n",
    "        reward += r\n",
    "    return reward\n",
    "\n",
    "trajectory(test_env, model.actor.get_deterministic_action)"
   ]
  },
  {
   "cell_type": "code",
   "execution_count": 46,
   "metadata": {},
   "outputs": [],
   "source": [
    "def plot_heatmap(X,Y,Z):\n",
    "    mesh = plt.pcolormesh(X,Y,Z)\n",
    "    cb = plt.colorbar()\n",
    "    plt.scatter(o[0], o[1], marker = 'x')\n",
    "    plt.scatter(o[-2], o[-1])\n",
    "    arr = mesh.get_array().reshape(mesh._meshWidth, mesh._meshHeight)\n",
    "    plt.imshow(arr.T, origin = 'lower', extent = [0, size, 0, size], alpha=0.8)\n",
    "    plt.show()\n",
    "    \n",
    "\n",
    "# simple for when using achieved goal with a single achieved goal in pm or pmO\n",
    "def heatmap_q(model, o, size, relative = True):\n",
    "    a  =np.linspace(-env.ENVIRONMENT_BOUNDS,env.ENVIRONMENT_BOUNDS,80)\n",
    "    r = []\n",
    "    for i in  list(a):\n",
    "        for j in  list(a):\n",
    "            r.append([i,j])\n",
    "    tiled_os  = np.tile(np.expand_dims(o,0),[len(r),1])\n",
    "    options = np.array(r)\n",
    "    \n",
    "    print(options.shape)\n",
    "    if relative:\n",
    "        options = options - tiled_os[:,0:2]\n",
    "    \n",
    "    print(tiled_os.shape)\n",
    "    tiled_os = torch.as_tensor(tiled_os, dtype=torch.float32).cuda()\n",
    "    options = torch.as_tensor(options, dtype=torch.float32).cuda()\n",
    "    q_vals = model.ac.q1(tiled_os, options).cpu().detach().numpy()\n",
    "\n",
    "    if relative:\n",
    "        options = options + tiled_os[:,0:2]\n",
    "                  \n",
    "    options = (options).cpu().detach().numpy()\n",
    "    X = options[:,0].reshape(len(a),len(a))  #(np.meshgrid(a,a)\n",
    "    Y = options[:,1].reshape(len(a),len(a))\n",
    "    #X, Y = np.meshgrid(a,a)\n",
    "\n",
    "    Z=q_vals.reshape(len(a),len(a))\n",
    "    plot_heatmap(X,Y,Z)"
   ]
  },
  {
   "cell_type": "code",
   "execution_count": 47,
   "metadata": {},
   "outputs": [
    {
     "name": "stdout",
     "output_type": "stream",
     "text": [
      "(6400, 2)\n",
      "(6400, 10)\n"
     ]
    },
    {
     "data": {
      "image/png": "[encoded data removed]",
      "text/plain": [
       "<Figure size 432x288 with 2 Axes>"
      ]
     },
     "metadata": {
      "needs_background": "light"
     },
     "output_type": "display_data"
    }
   ],
   "source": [
    "obs = test_env.reset()\n",
    "o  = np.concatenate((obs['observation'], obs['desired_goal']))\n",
    "image = test_env.calc_state()['image']\n",
    "size = image.shape[0]\n",
    "plt.imshow(np.flip(image,0), origin = 'lower')\n",
    "heatmap_q(model, o, size)"
   ]
  },
  {
   "cell_type": "code",
   "execution_count": null,
   "metadata": {},
   "outputs": [],
   "source": []
  },
  {
   "cell_type": "code",
   "execution_count": null,
   "metadata": {},
   "outputs": [],
   "source": []
  }
 ],
 "metadata": {
  "kernelspec": {
   "display_name": "Python 3",
   "language": "python",
   "name": "python3"
  },
  "language_info": {
   "codemirror_mode": {
    "name": "ipython",
    "version": 3
   },
   "file_extension": ".py",
   "mimetype": "text/x-python",
   "name": "python",
   "nbconvert_exporter": "python",
   "pygments_lexer": "ipython3",
   "version": "3.7.3"
  }
 },
 "nbformat": 4,
 "nbformat_minor": 2
}
